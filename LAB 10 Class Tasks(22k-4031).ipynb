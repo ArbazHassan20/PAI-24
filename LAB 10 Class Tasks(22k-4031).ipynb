{
 "cells": [
  {
   "cell_type": "markdown",
   "id": "843bc126-b833-461d-a9a9-23b0e4175c40",
   "metadata": {},
   "source": [
    "# Task 1"
   ]
  },
  {
   "cell_type": "markdown",
   "id": "833b1372-75ab-4ddc-9500-79b4513ddf20",
   "metadata": {},
   "source": [
    "import pandas as pd\n",
    "import matplotlib.pyplot as plt\n",
    "import seaborn as sns\n",
    "\n",
    "df = pd.read_csv('heart.csv')\n",
    "df.fillna(0 , inplace= True)\n",
    "correlation_matrix = df.corr()\n",
    "\n",
    "plt.figure(figsize=(10, 8)) \n",
    "sns.heatmap(correlation_matrix, annot=True, cmap='Blues', center=0, cbar=True)\n",
    "plt.title(\"Feature Correlation Heatmap\")\n",
    "plt.show()\n"
   ]
  },
  {
   "cell_type": "code",
   "execution_count": 18,
   "id": "7c9bfe6d-9d88-4dd0-b0cd-391c57b9cc4f",
   "metadata": {},
   "outputs": [
    {
     "data": {
      "image/png": "[encoded data removed]",
      "text/plain": [
       "<Figure size 200x200 with 1 Axes>"
      ]
     },
     "metadata": {},
     "output_type": "display_data"
    }
   ],
   "source": [
    "labels = ['Female', 'Male']\n",
    "sizes = [31.7, 68.3]  \n",
    "colors = ['lightgreen', 'lightblue']  \n",
    "\n",
    "plt.figure(figsize=(2, 2))\n",
    "plt.pie(sizes, labels=labels, autopct='%1.1f%%', colors=colors)\n",
    "plt.title(\"Gender distribution within the dataset\")\n",
    "plt.show()\n"
   ]
  },
  {
   "cell_type": "markdown",
   "id": "16564bec-4043-4362-8a3b-340f7a6b38fa",
   "metadata": {},
   "source": [
    "# TASK 2"
   ]
  },
  {
   "cell_type": "code",
   "execution_count": null,
   "id": "b49493dd-6e05-43a8-ba7c-fe584e2d0532",
   "metadata": {},
   "outputs": [],
   "source": [
    "import matplotlib.pyplot as plt\n",
    "import seaborn as sns\n",
    "import pandas as pd\n",
    "\n",
    "df = pd.read_csv(r'C:/Users/k224031/Downloads/imdb_top_1000.csv')\n",
    "\n",
    "print(df.info())\n",
    "print(df.describe())\n",
    "print(df.head())\n",
    "\n",
    "plt.figure(figsize=(12, 8))\n",
    "df.boxplot()\n",
    "plt.xticks(rotation=90)\n",
    "plt.title('Box Plot of Features to Identify Outliers')\n",
    "plt.show()\n",
    "\n",
    "\n",
    "df.hist(figsize=(12, 8), bins=30)\n",
    "plt.suptitle('Histogram of Numeric Features')\n",
    "plt.show()\n",
    "\n",
    "\n",
    "for column in df.select_dtypes(include=['float64', 'int64']).columns:\n",
    "    plt.figure()\n",
    "    sns.kdeplot(df[column], shade=True)\n",
    "    plt.title(f'Distribution of {column}')\n",
    "    plt.show()\n",
    "\n",
    "corr = df.corr()\n",
    "\n",
    "plt.figure(figsize=(12, 8))\n",
    "sns.heatmap(corr, annot=True, cmap='coolwarm')\n",
    "plt.title('Correlation Matrix Heatmap')\n",
    "plt.show()\n",
    "\n",
    "plt.figure(figsize=(12, 6))\n",
    "for column in df.select_dtypes(include=['float64', 'int64']).columns:\n",
    "    plt.plot(df['Date'], df[column], label=column)  \n",
    "plt.legend()\n",
    "plt.title('Trends Over Time')\n",
    "plt.xlabel('Date')\n",
    "plt.ylabel('Values')\n",
    "plt.xticks(rotation=45)\n",
    "plt.show()\n",
    "\n",
    "sns.pairplot(df)\n",
    "plt.suptitle('Scatter Plot Matrix of Features', y=1.02)\n",
    "plt.show()\n",
    "\n",
    "\n",
    "plt.figure(figsize=(12, 8))\n",
    "sns.boxplot(x='Category', y='ContinuousVariable', data=df)  \n",
    "plt.title('Box Plot of Continuous Variable Across Categories')\n",
    "plt.show()\n",
    "\n",
    "plt.figure(figsize=(12, 8))\n",
    "sns.violinplot(x='Category', y='ContinuousVariable', data=df) \n",
    "plt.title('Violin Plot of Continuous Variable Across Categories')\n",
    "plt.show()\n",
    "\n",
    "plt.figure(figsize=(12, 8))\n",
    "sns.regplot(x='Feature1', y='Feature2', data=df)\n",
    "plt.title('Relationship Between Feature1 and Feature2')\n",
    "plt.xlabel('Feature1')\n",
    "plt.ylabel('Feature2')\n",
    "plt.show()\n"
   ]
  }
 ],
 "metadata": {
  "kernelspec": {
   "display_name": "Python 3 (ipykernel)",
   "language": "python",
   "name": "python3"
  },
  "language_info": {
   "codemirror_mode": {
    "name": "ipython",
    "version": 3
   },
   "file_extension": ".py",
   "mimetype": "text/x-python",
   "name": "python",
   "nbconvert_exporter": "python",
   "pygments_lexer": "ipython3",
   "version": "3.11.7"
  }
 },
 "nbformat": 4,
 "nbformat_minor": 5
}
